{
  "nbformat": 4,
  "nbformat_minor": 0,
  "metadata": {
    "colab": {
      "name": "example.ipynb",
      "provenance": [],
      "collapsed_sections": [
        "XnTeuDX8QxyR",
        "6IKBgIBWQS-R"
      ],
      "authorship_tag": "ABX9TyM7FHY+9bHaT5X5BUnnvBEN",
      "include_colab_link": true
    },
    "kernelspec": {
      "name": "python3",
      "display_name": "Python 3"
    }
  },
  "cells": [
    {
      "cell_type": "markdown",
      "metadata": {
        "id": "view-in-github",
        "colab_type": "text"
      },
      "source": [
        "<a href=\"https://colab.research.google.com/github/BrucceNeves/TSRN4HEN/blob/master/example.ipynb\" target=\"_parent\"><img src=\"https://colab.research.google.com/assets/colab-badge.svg\" alt=\"Open In Colab\"/></a>"
      ]
    },
    {
      "cell_type": "code",
      "metadata": {
        "id": "O6hDLd323-10",
        "colab_type": "code",
        "colab": {}
      },
      "source": [
        "!wget https://github.com/BrucceNeves/TSRN4HEN/archive/master.zip\n",
        "\n",
        "!unzip -q master.zip\n",
        "\n",
        "%cd TSRN4HEN-master/"
      ],
      "execution_count": 0,
      "outputs": []
    },
    {
      "cell_type": "markdown",
      "metadata": {
        "id": "hO7ANF0U3h-U",
        "colab_type": "text"
      },
      "source": [
        "Creating a set with 50 labeled events for each class"
      ]
    },
    {
      "cell_type": "code",
      "metadata": {
        "id": "dtt8O6_sEJAE",
        "colab_type": "code",
        "colab": {}
      },
      "source": [
        "!cd labels && unzip inflation.zip\n",
        "!cd datasets && unzip inflation.zip\n",
        "\n",
        "list_labeled_events = 'labels/inflation.full_labels'\n",
        "output_labeled_events = 'labels/inflation.50_labeled_events'\n",
        "\n",
        "data = {}\n",
        "data['iterations'] = 1000\n",
        "data['convergenceThreshold'] = 0.00005\n",
        "data['relations'] = ['datasets/inflation.edges']\n",
        "data['labels'] = output_labeled_events\n",
        "\n",
        "import random\n",
        "\n",
        "# reading file with all labels\n",
        "f = open(list_labeled_events, 'r')\n",
        "labels = {}\n",
        "for line in f:\n",
        "  node, label = line.strip().split('\\t')\n",
        "  if label not in labels:\n",
        "    labels[label] = []\n",
        "  labels[label].append(node)\n",
        "f.close()\n",
        "\n",
        "# selecting 50 random events of each class\n",
        "f = open(output_labeled_events, 'w')\n",
        "for label in labels:\n",
        "  nodes = labels[label]\n",
        "  random.shuffle(nodes)\n",
        "  for i in range(50):\n",
        "    f.write(\"\\t\".join([nodes[i],label]) + \"\\n\")\n",
        "f.close()"
      ],
      "execution_count": 0,
      "outputs": []
    },
    {
      "cell_type": "markdown",
      "metadata": {
        "id": "XnTeuDX8QxyR",
        "colab_type": "text"
      },
      "source": [
        "# Running Methods"
      ]
    },
    {
      "cell_type": "markdown",
      "metadata": {
        "id": "FCdzZuJcNf63",
        "colab_type": "text"
      },
      "source": [
        "Running TSRF"
      ]
    },
    {
      "cell_type": "code",
      "metadata": {
        "id": "SvcID16y6NGV",
        "colab_type": "code",
        "colab": {}
      },
      "source": [
        "import json\n",
        "\n",
        "data['output_file'] = 'tsrf.model'\n",
        "data['target'] = 'event'\n",
        "data['mi'] = 0.9\n",
        "data['miBeta'] = 0.1\n",
        "\n",
        "with open('params.json', 'w') as outfile:\n",
        "    json.dump(data, outfile)\n",
        "\n",
        "# running algorithm\n",
        "!java -Xmx5G -cp TSRN4HEN.jar algorithms.TSRF params.json"
      ],
      "execution_count": 0,
      "outputs": []
    },
    {
      "cell_type": "markdown",
      "metadata": {
        "id": "zvrVRA3GNlQM",
        "colab_type": "text"
      },
      "source": [
        "Running GFHF"
      ]
    },
    {
      "cell_type": "code",
      "metadata": {
        "id": "wy5D5YXuNuZq",
        "colab_type": "code",
        "colab": {}
      },
      "source": [
        "import json\n",
        "\n",
        "data['labels'] = 'labels/inflation.50_labeled_events'\n",
        "data['output_file'] = 'gfhf.model'\n",
        "\n",
        "with open('params.json', 'w') as outfile:\n",
        "    json.dump(data, outfile)\n",
        "\n",
        "!java -Xmx5G -cp TSRN4HEN.jar algorithms.GFHF params.json"
      ],
      "execution_count": 0,
      "outputs": []
    },
    {
      "cell_type": "markdown",
      "metadata": {
        "id": "nwq1ynAaQtVC",
        "colab_type": "text"
      },
      "source": [
        "Running LPHN"
      ]
    },
    {
      "cell_type": "code",
      "metadata": {
        "id": "z7n6RqPHN3yn",
        "colab_type": "code",
        "colab": {}
      },
      "source": [
        "import json\n",
        "\n",
        "with open('params.json') as json_file:\n",
        "    data = json.load(json_file)\n",
        "    data['relations'] = ['datasets/inflation.edges']\n",
        "    data['labels'] = 'labels/inflation.50_labeled_events'\n",
        "    data['output_file'] = 'lphn.model'\n",
        "\n",
        "with open('params.json', 'w') as outfile:\n",
        "    json.dump(data, outfile)\n",
        "\n",
        "!java -Xmx5G -cp TSRN4HEN.jar algorithms.LPHN params.json"
      ],
      "execution_count": 0,
      "outputs": []
    },
    {
      "cell_type": "markdown",
      "metadata": {
        "id": "7a4pHS7KOWm_",
        "colab_type": "text"
      },
      "source": [
        "Running LLGC"
      ]
    },
    {
      "cell_type": "code",
      "metadata": {
        "id": "1GSU3DtKN96d",
        "colab_type": "code",
        "colab": {}
      },
      "source": [
        "import json\n",
        "\n",
        "data['output_file'] = 'llgc.model'\n",
        "data['mi'] = 0.9\n",
        "\n",
        "with open('params.json', 'w') as outfile:\n",
        "    json.dump(data, outfile)\n",
        "\n",
        "!java -Xmx5G -cp TSRN4HEN.jar algorithms.LLGC params.json"
      ],
      "execution_count": 0,
      "outputs": []
    },
    {
      "cell_type": "markdown",
      "metadata": {
        "id": "KDUPw628OaBI",
        "colab_type": "text"
      },
      "source": [
        "Running GNetMine"
      ]
    },
    {
      "cell_type": "code",
      "metadata": {
        "id": "WqzTs52GOdRH",
        "colab_type": "code",
        "colab": {}
      },
      "source": [
        "import json\n",
        "data['output_file'] = 'gnetmine.model'\n",
        "data['mi'] = 0.5\n",
        "data['weight_relations'] = {}\n",
        "\n",
        "with open('params.json', 'w') as outfile:\n",
        "    json.dump(data, outfile)\n",
        "\n",
        "!java -Xmx5G -cp TSRN4HEN.jar algorithms.GNetMine params.json"
      ],
      "execution_count": 0,
      "outputs": []
    },
    {
      "cell_type": "code",
      "metadata": {
        "id": "e1r8nbnhOpXl",
        "colab_type": "code",
        "colab": {}
      },
      "source": [
        "import json\n",
        "\n",
        "data['output_file'] = 'gnetmine.model'\n",
        "data['mi'] = 0.5\n",
        "data['weight_relations'] = {'event_temporal': 0.2, 'event_HL': 0.3, 'event_bag':0.7, 'event_geographic': 0.5}\n",
        "\n",
        "with open('params.json', 'w') as outfile:\n",
        "    json.dump(data, outfile)\n",
        "\n",
        "!java -Xmx5G -cp TSRN4HEN.jar algorithms.GNetMine params.json"
      ],
      "execution_count": 0,
      "outputs": []
    },
    {
      "cell_type": "markdown",
      "metadata": {
        "id": "6IKBgIBWQS-R",
        "colab_type": "text"
      },
      "source": [
        "# Evaluation"
      ]
    },
    {
      "cell_type": "markdown",
      "metadata": {
        "id": "ny7eepaH38fM",
        "colab_type": "text"
      },
      "source": [
        "Evaluation for TSRF, LLGC and GNetMine"
      ]
    },
    {
      "cell_type": "code",
      "metadata": {
        "id": "1zByrxwAQZp-",
        "colab_type": "code",
        "colab": {}
      },
      "source": [
        "import json, numpy\n",
        "from sklearn.metrics import f1_score\n",
        "\n",
        "f = open(list_labeled_events, 'r')\n",
        "labeled_events = {}\n",
        "for line in f:\n",
        "  node, label = line.strip().split('\\t')\n",
        "  label = numpy.argmax([float(x) for x in label.split(',')])\n",
        "  labeled_events[node] = label\n",
        "f.close()\n",
        "\n",
        "# remove labelled data\n",
        "f = open(output_labeled_events, 'r')\n",
        "for line in f:\n",
        "  node, label = line.strip().split('\\t')\n",
        "  del labeled_events[node]\n",
        "f.close()\n",
        "\n",
        "output_model = 'tsrf.model' # or 'llgc.model' or 'gnetmine.model'\n",
        "\n",
        "predicted = []\n",
        "real_label = []\n",
        "f = open(output_model, 'r')\n",
        "for line in f:\n",
        "  node, label = line.strip().split('\\t')\n",
        "  if node not in labeled_events:\n",
        "    continue\n",
        "  label = numpy.argmax([float(x) for x in label.split(',')])\n",
        "  predicted.append(label)\n",
        "  real_label.append(labeled_events[node])\n",
        "f.close()\n",
        "\n",
        "print('macro', f1_score(real_label, predicted, average='macro'))\n",
        "print('micro', f1_score(real_label, predicted, average='micro'))"
      ],
      "execution_count": 0,
      "outputs": []
    },
    {
      "cell_type": "markdown",
      "metadata": {
        "id": "4iXSJzFbYJNP",
        "colab_type": "text"
      },
      "source": [
        "Evaluation for GFHF and LPHN\n",
        "\n",
        "Using Class Mass Normalization"
      ]
    },
    {
      "cell_type": "code",
      "metadata": {
        "id": "2RwR-CmTYHN7",
        "colab_type": "code",
        "colab": {}
      },
      "source": [
        "import json, numpy\n",
        "from sklearn.metrics import f1_score\n",
        "\n",
        "labels_size = 0\n",
        "f = open(list_labeled_events, 'r')\n",
        "labeled_events = {}\n",
        "for line in f:\n",
        "  node, label = line.strip().split('\\t')\n",
        "  label = numpy.argmax([float(x) for x in label.split(',')])\n",
        "  labeled_events[node] = {'real_label': label, 'predicted': -1}\n",
        "  if label > labels_size:\n",
        "    labels_size = label\n",
        "f.close()\n",
        "\n",
        "labels_size += 1\n",
        "\n",
        "# remove labelled data\n",
        "f = open(output_labeled_events, 'r')\n",
        "for line in f:\n",
        "  node, label = line.strip().split('\\t')\n",
        "  del labeled_events[node]\n",
        "f.close()\n",
        "\n",
        "output_model = 'tsrf.model' # or 'llgc.model' or 'gnetmine.model'\n",
        "\n",
        "cmn = numpy.zeros(labels_size)\n",
        "f = open(output_model, 'r')\n",
        "for line in f:\n",
        "  node, label = line.strip().split('\\t')\n",
        "  if node not in labeled_events:\n",
        "    continue\n",
        "  label = numpy.array([float(x) for x in label.split(',')])\n",
        "  cmn += label\n",
        "  labeled_events[node]['predicted'] = label\n",
        "f.close()\n",
        "\n",
        "predicted = []\n",
        "real_label = []\n",
        "for node in labeled_events:\n",
        "  f = labeled_events[node]['predicted']\n",
        "  s = f.sum()\n",
        "  p = f/s\n",
        "  label = numpy.argmax(p * (f / cmn))\n",
        "  predicted.append(label)\n",
        "  real_label.append(labeled_events[node]['real_label'])\n",
        "\n",
        "print('macro', f1_score(real_label, predicted, average='macro'))\n",
        "print('micro', f1_score(real_label, predicted, average='micro'))"
      ],
      "execution_count": 0,
      "outputs": []
    }
  ]
}